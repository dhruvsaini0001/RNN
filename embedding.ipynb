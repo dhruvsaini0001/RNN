{
 "cells": [
  {
   "cell_type": "code",
   "execution_count": 17,
   "metadata": {},
   "outputs": [],
   "source": [
    "from tensorflow.keras.preprocessing.text import one_hot"
   ]
  },
  {
   "cell_type": "code",
   "execution_count": 18,
   "metadata": {},
   "outputs": [],
   "source": [
    "### sentences\n",
    "sent=[  'the glass of milk',\n",
    "     'the glass of juice',\n",
    "     'the cup of tea',\n",
    "    'I am a good boy',\n",
    "     'I am a good developer',\n",
    "     'understand the meaning of words',\n",
    "     'your videos are good',]"
   ]
  },
  {
   "cell_type": "code",
   "execution_count": 19,
   "metadata": {},
   "outputs": [
    {
     "data": {
      "text/plain": [
       "['the glass of milk',\n",
       " 'the glass of juice',\n",
       " 'the cup of tea',\n",
       " 'I am a good boy',\n",
       " 'I am a good developer',\n",
       " 'understand the meaning of words',\n",
       " 'your videos are good']"
      ]
     },
     "execution_count": 19,
     "metadata": {},
     "output_type": "execute_result"
    }
   ],
   "source": [
    "sent"
   ]
  },
  {
   "cell_type": "code",
   "execution_count": 20,
   "metadata": {},
   "outputs": [],
   "source": [
    "voc_size = 1000"
   ]
  },
  {
   "cell_type": "code",
   "execution_count": 21,
   "metadata": {},
   "outputs": [],
   "source": [
    "one_hot_repr = [one_hot(words,voc_size)for words in sent]"
   ]
  },
  {
   "cell_type": "code",
   "execution_count": 22,
   "metadata": {},
   "outputs": [
    {
     "data": {
      "text/plain": [
       "[[949, 325, 200, 567],\n",
       " [949, 325, 200, 500],\n",
       " [949, 985, 200, 53],\n",
       " [427, 886, 881, 304, 299],\n",
       " [427, 886, 881, 304, 353],\n",
       " [34, 949, 786, 200, 363],\n",
       " [739, 357, 247, 304]]"
      ]
     },
     "execution_count": 22,
     "metadata": {},
     "output_type": "execute_result"
    }
   ],
   "source": [
    "one_hot_repr"
   ]
  },
  {
   "cell_type": "code",
   "execution_count": 23,
   "metadata": {},
   "outputs": [],
   "source": [
    "from tensorflow.keras.layers import Embedding\n",
    "from tensorflow.keras.utils import pad_sequences\n",
    "from tensorflow.keras.models import Sequential"
   ]
  },
  {
   "cell_type": "code",
   "execution_count": null,
   "metadata": {},
   "outputs": [],
   "source": []
  },
  {
   "cell_type": "code",
   "execution_count": null,
   "metadata": {},
   "outputs": [],
   "source": []
  },
  {
   "cell_type": "code",
   "execution_count": 24,
   "metadata": {},
   "outputs": [],
   "source": [
    "import numpy as np"
   ]
  },
  {
   "cell_type": "code",
   "execution_count": 25,
   "metadata": {},
   "outputs": [
    {
     "name": "stdout",
     "output_type": "stream",
     "text": [
      "[[  0   0   0   0 949 325 200 567]\n",
      " [  0   0   0   0 949 325 200 500]\n",
      " [  0   0   0   0 949 985 200  53]\n",
      " [  0   0   0 427 886 881 304 299]\n",
      " [  0   0   0 427 886 881 304 353]\n",
      " [  0   0   0  34 949 786 200 363]\n",
      " [  0   0   0   0 739 357 247 304]]\n"
     ]
    }
   ],
   "source": [
    "sent_length =8 \n",
    "embedded_docs = pad_sequences(one_hot_repr,padding='pre',maxlen=sent_length)\n",
    "print(embedded_docs)"
   ]
  },
  {
   "cell_type": "code",
   "execution_count": 26,
   "metadata": {},
   "outputs": [],
   "source": [
    "dim=10"
   ]
  },
  {
   "cell_type": "code",
   "execution_count": 27,
   "metadata": {},
   "outputs": [
    {
     "name": "stderr",
     "output_type": "stream",
     "text": [
      "C:\\Users\\jaipr\\AppData\\Roaming\\Python\\Python311\\site-packages\\keras\\src\\layers\\core\\embedding.py:90: UserWarning: Argument `input_length` is deprecated. Just remove it.\n",
      "  warnings.warn(\n"
     ]
    }
   ],
   "source": [
    "model = Sequential()\n",
    "model.add(Embedding(voc_size,dim,input_length=sent_length))\n",
    "model.compile('adam','mse')"
   ]
  },
  {
   "cell_type": "code",
   "execution_count": 28,
   "metadata": {},
   "outputs": [
    {
     "data": {
      "text/html": [
       "<pre style=\"white-space:pre;overflow-x:auto;line-height:normal;font-family:Menlo,'DejaVu Sans Mono',consolas,'Courier New',monospace\"><span style=\"font-weight: bold\">Model: \"sequential_1\"</span>\n",
       "</pre>\n"
      ],
      "text/plain": [
       "\u001b[1mModel: \"sequential_1\"\u001b[0m\n"
      ]
     },
     "metadata": {},
     "output_type": "display_data"
    },
    {
     "data": {
      "text/html": [
       "<pre style=\"white-space:pre;overflow-x:auto;line-height:normal;font-family:Menlo,'DejaVu Sans Mono',consolas,'Courier New',monospace\">┏━━━━━━━━━━━━━━━━━━━━━━━━━━━━━━━━━┳━━━━━━━━━━━━━━━━━━━━━━━━┳━━━━━━━━━━━━━━━┓\n",
       "┃<span style=\"font-weight: bold\"> Layer (type)                    </span>┃<span style=\"font-weight: bold\"> Output Shape           </span>┃<span style=\"font-weight: bold\">       Param # </span>┃\n",
       "┡━━━━━━━━━━━━━━━━━━━━━━━━━━━━━━━━━╇━━━━━━━━━━━━━━━━━━━━━━━━╇━━━━━━━━━━━━━━━┩\n",
       "│ embedding_1 (<span style=\"color: #0087ff; text-decoration-color: #0087ff\">Embedding</span>)         │ ?                      │   <span style=\"color: #00af00; text-decoration-color: #00af00\">0</span> (unbuilt) │\n",
       "└─────────────────────────────────┴────────────────────────┴───────────────┘\n",
       "</pre>\n"
      ],
      "text/plain": [
       "┏━━━━━━━━━━━━━━━━━━━━━━━━━━━━━━━━━┳━━━━━━━━━━━━━━━━━━━━━━━━┳━━━━━━━━━━━━━━━┓\n",
       "┃\u001b[1m \u001b[0m\u001b[1mLayer (type)                   \u001b[0m\u001b[1m \u001b[0m┃\u001b[1m \u001b[0m\u001b[1mOutput Shape          \u001b[0m\u001b[1m \u001b[0m┃\u001b[1m \u001b[0m\u001b[1m      Param #\u001b[0m\u001b[1m \u001b[0m┃\n",
       "┡━━━━━━━━━━━━━━━━━━━━━━━━━━━━━━━━━╇━━━━━━━━━━━━━━━━━━━━━━━━╇━━━━━━━━━━━━━━━┩\n",
       "│ embedding_1 (\u001b[38;5;33mEmbedding\u001b[0m)         │ ?                      │   \u001b[38;5;34m0\u001b[0m (unbuilt) │\n",
       "└─────────────────────────────────┴────────────────────────┴───────────────┘\n"
      ]
     },
     "metadata": {},
     "output_type": "display_data"
    },
    {
     "data": {
      "text/html": [
       "<pre style=\"white-space:pre;overflow-x:auto;line-height:normal;font-family:Menlo,'DejaVu Sans Mono',consolas,'Courier New',monospace\"><span style=\"font-weight: bold\"> Total params: </span><span style=\"color: #00af00; text-decoration-color: #00af00\">0</span> (0.00 B)\n",
       "</pre>\n"
      ],
      "text/plain": [
       "\u001b[1m Total params: \u001b[0m\u001b[38;5;34m0\u001b[0m (0.00 B)\n"
      ]
     },
     "metadata": {},
     "output_type": "display_data"
    },
    {
     "data": {
      "text/html": [
       "<pre style=\"white-space:pre;overflow-x:auto;line-height:normal;font-family:Menlo,'DejaVu Sans Mono',consolas,'Courier New',monospace\"><span style=\"font-weight: bold\"> Trainable params: </span><span style=\"color: #00af00; text-decoration-color: #00af00\">0</span> (0.00 B)\n",
       "</pre>\n"
      ],
      "text/plain": [
       "\u001b[1m Trainable params: \u001b[0m\u001b[38;5;34m0\u001b[0m (0.00 B)\n"
      ]
     },
     "metadata": {},
     "output_type": "display_data"
    },
    {
     "data": {
      "text/html": [
       "<pre style=\"white-space:pre;overflow-x:auto;line-height:normal;font-family:Menlo,'DejaVu Sans Mono',consolas,'Courier New',monospace\"><span style=\"font-weight: bold\"> Non-trainable params: </span><span style=\"color: #00af00; text-decoration-color: #00af00\">0</span> (0.00 B)\n",
       "</pre>\n"
      ],
      "text/plain": [
       "\u001b[1m Non-trainable params: \u001b[0m\u001b[38;5;34m0\u001b[0m (0.00 B)\n"
      ]
     },
     "metadata": {},
     "output_type": "display_data"
    }
   ],
   "source": [
    "model.summary()"
   ]
  },
  {
   "cell_type": "code",
   "execution_count": 29,
   "metadata": {},
   "outputs": [
    {
     "name": "stdout",
     "output_type": "stream",
     "text": [
      "\u001b[1m1/1\u001b[0m \u001b[32m━━━━━━━━━━━━━━━━━━━━\u001b[0m\u001b[37m\u001b[0m \u001b[1m0s\u001b[0m 140ms/step\n"
     ]
    },
    {
     "data": {
      "text/plain": [
       "array([[[ 0.04638029,  0.04725946,  0.04843288,  0.04733069,\n",
       "         -0.04026391, -0.01084854, -0.03878529, -0.00035832,\n",
       "          0.01189755,  0.00386431],\n",
       "        [ 0.04638029,  0.04725946,  0.04843288,  0.04733069,\n",
       "         -0.04026391, -0.01084854, -0.03878529, -0.00035832,\n",
       "          0.01189755,  0.00386431],\n",
       "        [ 0.04638029,  0.04725946,  0.04843288,  0.04733069,\n",
       "         -0.04026391, -0.01084854, -0.03878529, -0.00035832,\n",
       "          0.01189755,  0.00386431],\n",
       "        [ 0.04638029,  0.04725946,  0.04843288,  0.04733069,\n",
       "         -0.04026391, -0.01084854, -0.03878529, -0.00035832,\n",
       "          0.01189755,  0.00386431],\n",
       "        [-0.01882606,  0.01058706,  0.00351533,  0.02420619,\n",
       "         -0.01950327, -0.02142453, -0.03399694,  0.03524405,\n",
       "          0.00892824, -0.03394586],\n",
       "        [ 0.04168342, -0.01290116, -0.04713699,  0.01800864,\n",
       "          0.04373673,  0.02667022,  0.00797803,  0.04035871,\n",
       "          0.03961309,  0.03700965],\n",
       "        [ 0.04908333, -0.01163099, -0.03505485, -0.03491944,\n",
       "          0.00951016,  0.04829326, -0.04245346,  0.04458446,\n",
       "          0.02390191,  0.02844472],\n",
       "        [-0.03598347, -0.03308713,  0.0380422 , -0.02461133,\n",
       "          0.03898733,  0.02952458, -0.03703934,  0.04492838,\n",
       "         -0.03342263, -0.03984286]],\n",
       "\n",
       "       [[ 0.04638029,  0.04725946,  0.04843288,  0.04733069,\n",
       "         -0.04026391, -0.01084854, -0.03878529, -0.00035832,\n",
       "          0.01189755,  0.00386431],\n",
       "        [ 0.04638029,  0.04725946,  0.04843288,  0.04733069,\n",
       "         -0.04026391, -0.01084854, -0.03878529, -0.00035832,\n",
       "          0.01189755,  0.00386431],\n",
       "        [ 0.04638029,  0.04725946,  0.04843288,  0.04733069,\n",
       "         -0.04026391, -0.01084854, -0.03878529, -0.00035832,\n",
       "          0.01189755,  0.00386431],\n",
       "        [ 0.04638029,  0.04725946,  0.04843288,  0.04733069,\n",
       "         -0.04026391, -0.01084854, -0.03878529, -0.00035832,\n",
       "          0.01189755,  0.00386431],\n",
       "        [-0.01882606,  0.01058706,  0.00351533,  0.02420619,\n",
       "         -0.01950327, -0.02142453, -0.03399694,  0.03524405,\n",
       "          0.00892824, -0.03394586],\n",
       "        [ 0.04168342, -0.01290116, -0.04713699,  0.01800864,\n",
       "          0.04373673,  0.02667022,  0.00797803,  0.04035871,\n",
       "          0.03961309,  0.03700965],\n",
       "        [ 0.04908333, -0.01163099, -0.03505485, -0.03491944,\n",
       "          0.00951016,  0.04829326, -0.04245346,  0.04458446,\n",
       "          0.02390191,  0.02844472],\n",
       "        [-0.01452578, -0.00257453,  0.02267721, -0.03541932,\n",
       "         -0.03498847,  0.00504285, -0.01837443, -0.02360934,\n",
       "          0.0248977 , -0.03151356]],\n",
       "\n",
       "       [[ 0.04638029,  0.04725946,  0.04843288,  0.04733069,\n",
       "         -0.04026391, -0.01084854, -0.03878529, -0.00035832,\n",
       "          0.01189755,  0.00386431],\n",
       "        [ 0.04638029,  0.04725946,  0.04843288,  0.04733069,\n",
       "         -0.04026391, -0.01084854, -0.03878529, -0.00035832,\n",
       "          0.01189755,  0.00386431],\n",
       "        [ 0.04638029,  0.04725946,  0.04843288,  0.04733069,\n",
       "         -0.04026391, -0.01084854, -0.03878529, -0.00035832,\n",
       "          0.01189755,  0.00386431],\n",
       "        [ 0.04638029,  0.04725946,  0.04843288,  0.04733069,\n",
       "         -0.04026391, -0.01084854, -0.03878529, -0.00035832,\n",
       "          0.01189755,  0.00386431],\n",
       "        [-0.01882606,  0.01058706,  0.00351533,  0.02420619,\n",
       "         -0.01950327, -0.02142453, -0.03399694,  0.03524405,\n",
       "          0.00892824, -0.03394586],\n",
       "        [ 0.04218071,  0.04615471, -0.02424325,  0.01032143,\n",
       "          0.02486202,  0.0018334 ,  0.03327486, -0.02669743,\n",
       "          0.03739763,  0.04504806],\n",
       "        [ 0.04908333, -0.01163099, -0.03505485, -0.03491944,\n",
       "          0.00951016,  0.04829326, -0.04245346,  0.04458446,\n",
       "          0.02390191,  0.02844472],\n",
       "        [-0.03564272, -0.01568577,  0.00341517,  0.01525125,\n",
       "          0.00917812,  0.01638306,  0.02217901,  0.01441374,\n",
       "         -0.00657594, -0.00682235]],\n",
       "\n",
       "       [[ 0.04638029,  0.04725946,  0.04843288,  0.04733069,\n",
       "         -0.04026391, -0.01084854, -0.03878529, -0.00035832,\n",
       "          0.01189755,  0.00386431],\n",
       "        [ 0.04638029,  0.04725946,  0.04843288,  0.04733069,\n",
       "         -0.04026391, -0.01084854, -0.03878529, -0.00035832,\n",
       "          0.01189755,  0.00386431],\n",
       "        [ 0.04638029,  0.04725946,  0.04843288,  0.04733069,\n",
       "         -0.04026391, -0.01084854, -0.03878529, -0.00035832,\n",
       "          0.01189755,  0.00386431],\n",
       "        [-0.02170329, -0.04314544,  0.04915371,  0.03872344,\n",
       "          0.04489562,  0.00815531,  0.00919082, -0.01339383,\n",
       "          0.03899025,  0.02647108],\n",
       "        [-0.04650586,  0.03034324,  0.00226181, -0.04383313,\n",
       "          0.00564839,  0.0275691 , -0.00754271,  0.02735576,\n",
       "         -0.01303866,  0.00586612],\n",
       "        [ 0.01475325, -0.01569139,  0.01589448, -0.02246659,\n",
       "          0.00676984,  0.00066985,  0.01396079, -0.03950156,\n",
       "         -0.03526689, -0.00293062],\n",
       "        [-0.01205602,  0.00809769,  0.0078006 ,  0.04537387,\n",
       "          0.01668615, -0.0251359 , -0.0420311 , -0.03614532,\n",
       "          0.02794901,  0.03158704],\n",
       "        [ 0.03685353, -0.02729374, -0.01387097,  0.0203961 ,\n",
       "         -0.00991225, -0.02647316,  0.02365151, -0.0398216 ,\n",
       "         -0.03989984,  0.01671894]],\n",
       "\n",
       "       [[ 0.04638029,  0.04725946,  0.04843288,  0.04733069,\n",
       "         -0.04026391, -0.01084854, -0.03878529, -0.00035832,\n",
       "          0.01189755,  0.00386431],\n",
       "        [ 0.04638029,  0.04725946,  0.04843288,  0.04733069,\n",
       "         -0.04026391, -0.01084854, -0.03878529, -0.00035832,\n",
       "          0.01189755,  0.00386431],\n",
       "        [ 0.04638029,  0.04725946,  0.04843288,  0.04733069,\n",
       "         -0.04026391, -0.01084854, -0.03878529, -0.00035832,\n",
       "          0.01189755,  0.00386431],\n",
       "        [-0.02170329, -0.04314544,  0.04915371,  0.03872344,\n",
       "          0.04489562,  0.00815531,  0.00919082, -0.01339383,\n",
       "          0.03899025,  0.02647108],\n",
       "        [-0.04650586,  0.03034324,  0.00226181, -0.04383313,\n",
       "          0.00564839,  0.0275691 , -0.00754271,  0.02735576,\n",
       "         -0.01303866,  0.00586612],\n",
       "        [ 0.01475325, -0.01569139,  0.01589448, -0.02246659,\n",
       "          0.00676984,  0.00066985,  0.01396079, -0.03950156,\n",
       "         -0.03526689, -0.00293062],\n",
       "        [-0.01205602,  0.00809769,  0.0078006 ,  0.04537387,\n",
       "          0.01668615, -0.0251359 , -0.0420311 , -0.03614532,\n",
       "          0.02794901,  0.03158704],\n",
       "        [-0.02177038, -0.00814741, -0.00615449,  0.02116222,\n",
       "         -0.01128489, -0.02612859,  0.03972951,  0.0310351 ,\n",
       "          0.00473348,  0.04469487]],\n",
       "\n",
       "       [[ 0.04638029,  0.04725946,  0.04843288,  0.04733069,\n",
       "         -0.04026391, -0.01084854, -0.03878529, -0.00035832,\n",
       "          0.01189755,  0.00386431],\n",
       "        [ 0.04638029,  0.04725946,  0.04843288,  0.04733069,\n",
       "         -0.04026391, -0.01084854, -0.03878529, -0.00035832,\n",
       "          0.01189755,  0.00386431],\n",
       "        [ 0.04638029,  0.04725946,  0.04843288,  0.04733069,\n",
       "         -0.04026391, -0.01084854, -0.03878529, -0.00035832,\n",
       "          0.01189755,  0.00386431],\n",
       "        [ 0.00710435, -0.02061641, -0.00844783,  0.03052136,\n",
       "         -0.03299467, -0.04818079,  0.02252865, -0.04815911,\n",
       "         -0.02022274,  0.00653683],\n",
       "        [-0.01882606,  0.01058706,  0.00351533,  0.02420619,\n",
       "         -0.01950327, -0.02142453, -0.03399694,  0.03524405,\n",
       "          0.00892824, -0.03394586],\n",
       "        [-0.03595309,  0.04985086,  0.01644004, -0.01892395,\n",
       "          0.0112349 , -0.01572875,  0.01744648, -0.01335363,\n",
       "         -0.00630466, -0.01546443],\n",
       "        [ 0.04908333, -0.01163099, -0.03505485, -0.03491944,\n",
       "          0.00951016,  0.04829326, -0.04245346,  0.04458446,\n",
       "          0.02390191,  0.02844472],\n",
       "        [ 0.02968505,  0.02406511,  0.03978376, -0.00300698,\n",
       "         -0.02258593, -0.00641775,  0.03332217, -0.02909341,\n",
       "         -0.00711986,  0.00500677]],\n",
       "\n",
       "       [[ 0.04638029,  0.04725946,  0.04843288,  0.04733069,\n",
       "         -0.04026391, -0.01084854, -0.03878529, -0.00035832,\n",
       "          0.01189755,  0.00386431],\n",
       "        [ 0.04638029,  0.04725946,  0.04843288,  0.04733069,\n",
       "         -0.04026391, -0.01084854, -0.03878529, -0.00035832,\n",
       "          0.01189755,  0.00386431],\n",
       "        [ 0.04638029,  0.04725946,  0.04843288,  0.04733069,\n",
       "         -0.04026391, -0.01084854, -0.03878529, -0.00035832,\n",
       "          0.01189755,  0.00386431],\n",
       "        [ 0.04638029,  0.04725946,  0.04843288,  0.04733069,\n",
       "         -0.04026391, -0.01084854, -0.03878529, -0.00035832,\n",
       "          0.01189755,  0.00386431],\n",
       "        [ 0.03293684,  0.04169871,  0.00730724, -0.03878134,\n",
       "          0.04285401,  0.01114918, -0.03607222,  0.03122321,\n",
       "          0.00091306, -0.03437245],\n",
       "        [ 0.03268032,  0.0218135 , -0.03174607,  0.02021131,\n",
       "         -0.00609472,  0.03392633,  0.01686137, -0.04662234,\n",
       "         -0.04418908,  0.01412388],\n",
       "        [-0.00828255, -0.04143592, -0.04409624, -0.00369892,\n",
       "          0.00873967,  0.00683088, -0.03232989,  0.0083294 ,\n",
       "         -0.02980757,  0.03880082],\n",
       "        [-0.01205602,  0.00809769,  0.0078006 ,  0.04537387,\n",
       "          0.01668615, -0.0251359 , -0.0420311 , -0.03614532,\n",
       "          0.02794901,  0.03158704]]], dtype=float32)"
      ]
     },
     "execution_count": 29,
     "metadata": {},
     "output_type": "execute_result"
    }
   ],
   "source": [
    "model.predict(embedded_docs)"
   ]
  },
  {
   "cell_type": "code",
   "execution_count": 30,
   "metadata": {},
   "outputs": [
    {
     "data": {
      "text/plain": [
       "array([  0,   0,   0,   0, 949, 325, 200, 567])"
      ]
     },
     "execution_count": 30,
     "metadata": {},
     "output_type": "execute_result"
    }
   ],
   "source": [
    "embedded_docs[0]"
   ]
  },
  {
   "cell_type": "code",
   "execution_count": 31,
   "metadata": {},
   "outputs": [
    {
     "ename": "ValueError",
     "evalue": "Exception encountered when calling Sequential.call().\n\n\u001b[1mCannot take the length of shape with unknown rank.\u001b[0m\n\nArguments received by Sequential.call():\n  • inputs=tf.Tensor(shape=<unknown>, dtype=int32)\n  • training=False\n  • mask=None",
     "output_type": "error",
     "traceback": [
      "\u001b[1;31m---------------------------------------------------------------------------\u001b[0m",
      "\u001b[1;31mValueError\u001b[0m                                Traceback (most recent call last)",
      "Cell \u001b[1;32mIn[31], line 1\u001b[0m\n\u001b[1;32m----> 1\u001b[0m \u001b[43mmodel\u001b[49m\u001b[38;5;241;43m.\u001b[39;49m\u001b[43mpredict\u001b[49m\u001b[43m(\u001b[49m\u001b[43membedded_docs\u001b[49m\u001b[43m[\u001b[49m\u001b[38;5;241;43m0\u001b[39;49m\u001b[43m]\u001b[49m\u001b[43m)\u001b[49m\n",
      "File \u001b[1;32m~\\AppData\\Roaming\\Python\\Python311\\site-packages\\keras\\src\\utils\\traceback_utils.py:122\u001b[0m, in \u001b[0;36mfilter_traceback.<locals>.error_handler\u001b[1;34m(*args, **kwargs)\u001b[0m\n\u001b[0;32m    119\u001b[0m     filtered_tb \u001b[38;5;241m=\u001b[39m _process_traceback_frames(e\u001b[38;5;241m.\u001b[39m__traceback__)\n\u001b[0;32m    120\u001b[0m     \u001b[38;5;66;03m# To get the full stack trace, call:\u001b[39;00m\n\u001b[0;32m    121\u001b[0m     \u001b[38;5;66;03m# `keras.config.disable_traceback_filtering()`\u001b[39;00m\n\u001b[1;32m--> 122\u001b[0m     \u001b[38;5;28;01mraise\u001b[39;00m e\u001b[38;5;241m.\u001b[39mwith_traceback(filtered_tb) \u001b[38;5;28;01mfrom\u001b[39;00m \u001b[38;5;28;01mNone\u001b[39;00m\n\u001b[0;32m    123\u001b[0m \u001b[38;5;28;01mfinally\u001b[39;00m:\n\u001b[0;32m    124\u001b[0m     \u001b[38;5;28;01mdel\u001b[39;00m filtered_tb\n",
      "File \u001b[1;32m~\\AppData\\Roaming\\Python\\Python311\\site-packages\\keras\\src\\utils\\traceback_utils.py:122\u001b[0m, in \u001b[0;36mfilter_traceback.<locals>.error_handler\u001b[1;34m(*args, **kwargs)\u001b[0m\n\u001b[0;32m    119\u001b[0m     filtered_tb \u001b[38;5;241m=\u001b[39m _process_traceback_frames(e\u001b[38;5;241m.\u001b[39m__traceback__)\n\u001b[0;32m    120\u001b[0m     \u001b[38;5;66;03m# To get the full stack trace, call:\u001b[39;00m\n\u001b[0;32m    121\u001b[0m     \u001b[38;5;66;03m# `keras.config.disable_traceback_filtering()`\u001b[39;00m\n\u001b[1;32m--> 122\u001b[0m     \u001b[38;5;28;01mraise\u001b[39;00m e\u001b[38;5;241m.\u001b[39mwith_traceback(filtered_tb) \u001b[38;5;28;01mfrom\u001b[39;00m \u001b[38;5;28;01mNone\u001b[39;00m\n\u001b[0;32m    123\u001b[0m \u001b[38;5;28;01mfinally\u001b[39;00m:\n\u001b[0;32m    124\u001b[0m     \u001b[38;5;28;01mdel\u001b[39;00m filtered_tb\n",
      "\u001b[1;31mValueError\u001b[0m: Exception encountered when calling Sequential.call().\n\n\u001b[1mCannot take the length of shape with unknown rank.\u001b[0m\n\nArguments received by Sequential.call():\n  • inputs=tf.Tensor(shape=<unknown>, dtype=int32)\n  • training=False\n  • mask=None"
     ]
    }
   ],
   "source": [
    "model.predict(embedded_docs[0])"
   ]
  },
  {
   "cell_type": "code",
   "execution_count": 32,
   "metadata": {},
   "outputs": [
    {
     "name": "stdout",
     "output_type": "stream",
     "text": [
      "(8,)\n"
     ]
    }
   ],
   "source": [
    "print(embedded_docs[0].shape)\n"
   ]
  },
  {
   "cell_type": "code",
   "execution_count": 33,
   "metadata": {},
   "outputs": [
    {
     "name": "stdout",
     "output_type": "stream",
     "text": [
      "\u001b[1m1/1\u001b[0m \u001b[32m━━━━━━━━━━━━━━━━━━━━\u001b[0m\u001b[37m\u001b[0m \u001b[1m0s\u001b[0m 48ms/step\n",
      "[[[ 0.04638029  0.04725946  0.04843288  0.04733069 -0.04026391\n",
      "   -0.01084854 -0.03878529 -0.00035832  0.01189755  0.00386431]\n",
      "  [ 0.04638029  0.04725946  0.04843288  0.04733069 -0.04026391\n",
      "   -0.01084854 -0.03878529 -0.00035832  0.01189755  0.00386431]\n",
      "  [ 0.04638029  0.04725946  0.04843288  0.04733069 -0.04026391\n",
      "   -0.01084854 -0.03878529 -0.00035832  0.01189755  0.00386431]\n",
      "  [ 0.04638029  0.04725946  0.04843288  0.04733069 -0.04026391\n",
      "   -0.01084854 -0.03878529 -0.00035832  0.01189755  0.00386431]\n",
      "  [-0.01882606  0.01058706  0.00351533  0.02420619 -0.01950327\n",
      "   -0.02142453 -0.03399694  0.03524405  0.00892824 -0.03394586]\n",
      "  [ 0.04168342 -0.01290116 -0.04713699  0.01800864  0.04373673\n",
      "    0.02667022  0.00797803  0.04035871  0.03961309  0.03700965]\n",
      "  [ 0.04908333 -0.01163099 -0.03505485 -0.03491944  0.00951016\n",
      "    0.04829326 -0.04245346  0.04458446  0.02390191  0.02844472]\n",
      "  [-0.03598347 -0.03308713  0.0380422  -0.02461133  0.03898733\n",
      "    0.02952458 -0.03703934  0.04492838 -0.03342263 -0.03984286]]]\n"
     ]
    }
   ],
   "source": [
    "import numpy as np\n",
    "\n",
    "# Add batch dimension to match expected input shape\n",
    "input_data = np.expand_dims(embedded_docs[0], axis=0)  # Shape becomes (1, 100)\n",
    "predictions = model.predict(input_data)\n",
    "print(predictions)\n"
   ]
  },
  {
   "cell_type": "code",
   "execution_count": null,
   "metadata": {},
   "outputs": [],
   "source": []
  }
 ],
 "metadata": {
  "kernelspec": {
   "display_name": "Python 3",
   "language": "python",
   "name": "python3"
  },
  "language_info": {
   "codemirror_mode": {
    "name": "ipython",
    "version": 3
   },
   "file_extension": ".py",
   "mimetype": "text/x-python",
   "name": "python",
   "nbconvert_exporter": "python",
   "pygments_lexer": "ipython3",
   "version": "3.11.4"
  }
 },
 "nbformat": 4,
 "nbformat_minor": 2
}
