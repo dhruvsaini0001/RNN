{
 "cells": [
  {
   "cell_type": "code",
   "execution_count": 1,
   "metadata": {},
   "outputs": [],
   "source": [
    "# Step 1: Import Libraries and Load the Model\n",
    "import numpy as np\n",
    "import tensorflow as tf\n",
    "from tensorflow.keras.datasets import imdb\n",
    "from tensorflow.keras.preprocessing import sequence\n",
    "from tensorflow.keras.models import load_model"
   ]
  },
  {
   "cell_type": "code",
   "execution_count": 2,
   "metadata": {},
   "outputs": [],
   "source": [
    "\n",
    "# Load the IMDB dataset word index\n",
    "word_index = imdb.get_word_index()\n",
    "reverse_word_index = {value: key for key, value in word_index.items()}"
   ]
  },
  {
   "cell_type": "code",
   "execution_count": 3,
   "metadata": {},
   "outputs": [
    {
     "name": "stderr",
     "output_type": "stream",
     "text": [
      "WARNING:absl:Compiled the loaded model, but the compiled metrics have yet to be built. `model.compile_metrics` will be empty until you train or evaluate the model.\n"
     ]
    },
    {
     "data": {
      "text/html": [
       "<pre style=\"white-space:pre;overflow-x:auto;line-height:normal;font-family:Menlo,'DejaVu Sans Mono',consolas,'Courier New',monospace\"><span style=\"font-weight: bold\">Model: \"sequential\"</span>\n",
       "</pre>\n"
      ],
      "text/plain": [
       "\u001b[1mModel: \"sequential\"\u001b[0m\n"
      ]
     },
     "metadata": {},
     "output_type": "display_data"
    },
    {
     "data": {
      "text/html": [
       "<pre style=\"white-space:pre;overflow-x:auto;line-height:normal;font-family:Menlo,'DejaVu Sans Mono',consolas,'Courier New',monospace\">┏━━━━━━━━━━━━━━━━━━━━━━━━━━━━━━━━━┳━━━━━━━━━━━━━━━━━━━━━━━━┳━━━━━━━━━━━━━━━┓\n",
       "┃<span style=\"font-weight: bold\"> Layer (type)                    </span>┃<span style=\"font-weight: bold\"> Output Shape           </span>┃<span style=\"font-weight: bold\">       Param # </span>┃\n",
       "┡━━━━━━━━━━━━━━━━━━━━━━━━━━━━━━━━━╇━━━━━━━━━━━━━━━━━━━━━━━━╇━━━━━━━━━━━━━━━┩\n",
       "│ embedding (<span style=\"color: #0087ff; text-decoration-color: #0087ff\">Embedding</span>)           │ (<span style=\"color: #00d7ff; text-decoration-color: #00d7ff\">None</span>, <span style=\"color: #00af00; text-decoration-color: #00af00\">500</span>, <span style=\"color: #00af00; text-decoration-color: #00af00\">128</span>)       │     <span style=\"color: #00af00; text-decoration-color: #00af00\">1,280,000</span> │\n",
       "├─────────────────────────────────┼────────────────────────┼───────────────┤\n",
       "│ simple_rnn (<span style=\"color: #0087ff; text-decoration-color: #0087ff\">SimpleRNN</span>)          │ (<span style=\"color: #00d7ff; text-decoration-color: #00d7ff\">None</span>, <span style=\"color: #00af00; text-decoration-color: #00af00\">128</span>)            │        <span style=\"color: #00af00; text-decoration-color: #00af00\">32,896</span> │\n",
       "├─────────────────────────────────┼────────────────────────┼───────────────┤\n",
       "│ dense (<span style=\"color: #0087ff; text-decoration-color: #0087ff\">Dense</span>)                   │ (<span style=\"color: #00d7ff; text-decoration-color: #00d7ff\">None</span>, <span style=\"color: #00af00; text-decoration-color: #00af00\">1</span>)              │           <span style=\"color: #00af00; text-decoration-color: #00af00\">129</span> │\n",
       "└─────────────────────────────────┴────────────────────────┴───────────────┘\n",
       "</pre>\n"
      ],
      "text/plain": [
       "┏━━━━━━━━━━━━━━━━━━━━━━━━━━━━━━━━━┳━━━━━━━━━━━━━━━━━━━━━━━━┳━━━━━━━━━━━━━━━┓\n",
       "┃\u001b[1m \u001b[0m\u001b[1mLayer (type)                   \u001b[0m\u001b[1m \u001b[0m┃\u001b[1m \u001b[0m\u001b[1mOutput Shape          \u001b[0m\u001b[1m \u001b[0m┃\u001b[1m \u001b[0m\u001b[1m      Param #\u001b[0m\u001b[1m \u001b[0m┃\n",
       "┡━━━━━━━━━━━━━━━━━━━━━━━━━━━━━━━━━╇━━━━━━━━━━━━━━━━━━━━━━━━╇━━━━━━━━━━━━━━━┩\n",
       "│ embedding (\u001b[38;5;33mEmbedding\u001b[0m)           │ (\u001b[38;5;45mNone\u001b[0m, \u001b[38;5;34m500\u001b[0m, \u001b[38;5;34m128\u001b[0m)       │     \u001b[38;5;34m1,280,000\u001b[0m │\n",
       "├─────────────────────────────────┼────────────────────────┼───────────────┤\n",
       "│ simple_rnn (\u001b[38;5;33mSimpleRNN\u001b[0m)          │ (\u001b[38;5;45mNone\u001b[0m, \u001b[38;5;34m128\u001b[0m)            │        \u001b[38;5;34m32,896\u001b[0m │\n",
       "├─────────────────────────────────┼────────────────────────┼───────────────┤\n",
       "│ dense (\u001b[38;5;33mDense\u001b[0m)                   │ (\u001b[38;5;45mNone\u001b[0m, \u001b[38;5;34m1\u001b[0m)              │           \u001b[38;5;34m129\u001b[0m │\n",
       "└─────────────────────────────────┴────────────────────────┴───────────────┘\n"
      ]
     },
     "metadata": {},
     "output_type": "display_data"
    },
    {
     "data": {
      "text/html": [
       "<pre style=\"white-space:pre;overflow-x:auto;line-height:normal;font-family:Menlo,'DejaVu Sans Mono',consolas,'Courier New',monospace\"><span style=\"font-weight: bold\"> Total params: </span><span style=\"color: #00af00; text-decoration-color: #00af00\">1,313,027</span> (5.01 MB)\n",
       "</pre>\n"
      ],
      "text/plain": [
       "\u001b[1m Total params: \u001b[0m\u001b[38;5;34m1,313,027\u001b[0m (5.01 MB)\n"
      ]
     },
     "metadata": {},
     "output_type": "display_data"
    },
    {
     "data": {
      "text/html": [
       "<pre style=\"white-space:pre;overflow-x:auto;line-height:normal;font-family:Menlo,'DejaVu Sans Mono',consolas,'Courier New',monospace\"><span style=\"font-weight: bold\"> Trainable params: </span><span style=\"color: #00af00; text-decoration-color: #00af00\">1,313,025</span> (5.01 MB)\n",
       "</pre>\n"
      ],
      "text/plain": [
       "\u001b[1m Trainable params: \u001b[0m\u001b[38;5;34m1,313,025\u001b[0m (5.01 MB)\n"
      ]
     },
     "metadata": {},
     "output_type": "display_data"
    },
    {
     "data": {
      "text/html": [
       "<pre style=\"white-space:pre;overflow-x:auto;line-height:normal;font-family:Menlo,'DejaVu Sans Mono',consolas,'Courier New',monospace\"><span style=\"font-weight: bold\"> Non-trainable params: </span><span style=\"color: #00af00; text-decoration-color: #00af00\">0</span> (0.00 B)\n",
       "</pre>\n"
      ],
      "text/plain": [
       "\u001b[1m Non-trainable params: \u001b[0m\u001b[38;5;34m0\u001b[0m (0.00 B)\n"
      ]
     },
     "metadata": {},
     "output_type": "display_data"
    },
    {
     "data": {
      "text/html": [
       "<pre style=\"white-space:pre;overflow-x:auto;line-height:normal;font-family:Menlo,'DejaVu Sans Mono',consolas,'Courier New',monospace\"><span style=\"font-weight: bold\"> Optimizer params: </span><span style=\"color: #00af00; text-decoration-color: #00af00\">2</span> (12.00 B)\n",
       "</pre>\n"
      ],
      "text/plain": [
       "\u001b[1m Optimizer params: \u001b[0m\u001b[38;5;34m2\u001b[0m (12.00 B)\n"
      ]
     },
     "metadata": {},
     "output_type": "display_data"
    }
   ],
   "source": [
    "# Load the pre-trained model with ReLU activation\n",
    "model = load_model('simple_rnn_imdb.h5')\n",
    "model.summary()"
   ]
  },
  {
   "cell_type": "code",
   "execution_count": 4,
   "metadata": {},
   "outputs": [
    {
     "data": {
      "text/plain": [
       "[array([[-2.75664985e-01,  9.71643180e-02,  5.83384074e-02, ...,\n",
       "         -3.05285677e-02, -8.13540280e-01,  6.30790293e-02],\n",
       "        [-2.24059336e-02, -6.46277815e-02, -2.58381162e-02, ...,\n",
       "         -4.29829434e-02, -6.83038458e-02,  4.51493002e-02],\n",
       "        [ 1.71294287e-01,  1.20898746e-01, -6.60281745e-04, ...,\n",
       "          4.41779010e-02, -1.67355284e-01, -6.65363222e-02],\n",
       "        ...,\n",
       "        [-3.89066362e-03, -2.63851937e-02,  1.38123715e-02, ...,\n",
       "         -3.27779837e-02, -1.83406025e-02,  1.08958660e-02],\n",
       "        [ 7.17557147e-02, -4.54459526e-02, -1.55177144e-02, ...,\n",
       "         -2.40917578e-02, -3.73734944e-02,  2.04999801e-02],\n",
       "        [-2.04784889e-02, -6.90299049e-02, -1.35920579e-02, ...,\n",
       "         -6.53133318e-02,  3.03390231e-02,  6.48312494e-02]], dtype=float32),\n",
       " array([[ 0.00900498,  0.1365982 , -0.00155068, ...,  0.06241885,\n",
       "         -0.09150007,  0.06270413],\n",
       "        [-0.02905998,  0.07026578, -0.1690102 , ...,  0.03863611,\n",
       "         -0.03429682, -0.10496337],\n",
       "        [ 0.08151118, -0.1848227 , -0.13989823, ..., -0.03661649,\n",
       "          0.11189254, -0.00998165],\n",
       "        ...,\n",
       "        [-0.0834532 , -0.07812228, -0.10409721, ...,  0.02050447,\n",
       "          0.0226592 ,  0.11002157],\n",
       "        [-0.00745978, -0.0730473 , -0.08625689, ..., -0.06749071,\n",
       "         -0.04365896, -0.04153638],\n",
       "        [ 0.0753582 , -0.13052556,  0.08880266, ...,  0.23990098,\n",
       "          0.16603698, -0.02743973]], dtype=float32),\n",
       " array([[-0.15991595, -0.08152483, -0.12585491, ..., -0.03231496,\n",
       "          0.02032169, -0.10824699],\n",
       "        [-0.17469567, -0.00375503,  0.08345613, ...,  0.27874032,\n",
       "          0.01157744, -0.1001932 ],\n",
       "        [ 0.06795547, -0.10470314, -0.04439397, ..., -0.1251806 ,\n",
       "          0.08031829, -0.09045847],\n",
       "        ...,\n",
       "        [-0.04723429, -0.10731194, -0.12120751, ..., -0.00740774,\n",
       "         -0.04656149,  0.09374876],\n",
       "        [ 0.00097915, -0.07598417, -0.10392816, ...,  0.10789216,\n",
       "         -0.2651553 , -0.02461252],\n",
       "        [-0.21798912, -0.12599526,  0.07919737, ..., -0.24169257,\n",
       "          0.07723942, -0.05932768]], dtype=float32),\n",
       " array([-5.7462312e-02, -4.4469323e-02, -3.7022278e-02, -5.2933462e-02,\n",
       "         1.0837366e-02,  5.2479003e-02,  2.4198378e-02,  6.9850139e-02,\n",
       "        -2.5411883e-02, -4.1391877e-03, -8.9507755e-03, -6.6419244e-02,\n",
       "        -2.1437278e-03, -4.8047312e-02,  1.0078099e-01,  1.2343628e-01,\n",
       "        -1.4394390e-02, -4.7244452e-02,  8.7998956e-03, -5.1388346e-02,\n",
       "        -1.5418732e-02, -9.2908405e-03,  2.1582916e-02, -9.7965240e-02,\n",
       "        -5.9337474e-02,  5.8069035e-02, -2.8434494e-03, -3.6777429e-02,\n",
       "        -4.2173047e-02, -1.3971092e-02,  1.2587146e-02,  4.5381386e-02,\n",
       "        -3.9683152e-02, -7.2101295e-02,  1.0527261e-02, -5.3393599e-02,\n",
       "        -3.6077756e-02, -1.5090100e-02, -3.1318359e-02, -4.4894002e-02,\n",
       "        -1.3732296e-02, -7.7493042e-02, -1.0600749e-02, -4.7185585e-02,\n",
       "        -8.6695790e-02, -2.1839984e-02, -5.2203730e-02, -5.8694031e-02,\n",
       "         1.8437453e-02, -5.4067843e-02, -2.9703112e-02,  3.4877043e-03,\n",
       "        -5.4490369e-02, -2.8339885e-02,  4.9692132e-02,  8.5154930e-03,\n",
       "        -8.2305692e-02, -7.7607937e-02, -4.9195442e-02,  5.0038442e-02,\n",
       "        -7.4771270e-02, -5.6881852e-02, -6.3099466e-02, -6.0981672e-02,\n",
       "        -3.5579883e-02, -7.7389285e-02, -8.0516011e-02, -7.7139609e-02,\n",
       "        -8.7221935e-02, -6.3292935e-02, -3.3994604e-02, -1.3945842e-02,\n",
       "        -3.7129704e-02, -6.1908904e-02, -3.8842112e-02, -1.1095075e-02,\n",
       "         5.9422264e-03, -3.3233523e-02,  1.9689625e-05, -7.1298465e-02,\n",
       "        -8.1320584e-02, -2.2239601e-02, -6.9475248e-02, -7.4921332e-02,\n",
       "        -4.9468372e-02, -3.3268631e-02, -3.8622327e-02, -4.0601362e-02,\n",
       "        -7.4414976e-02, -3.0718256e-02,  1.6375737e-02, -6.5212637e-02,\n",
       "        -1.7740251e-02,  4.5799553e-02, -5.9464887e-02,  2.6405582e-02,\n",
       "        -4.6848554e-02, -5.6209337e-02, -3.3956494e-02,  4.1291922e-02,\n",
       "        -5.1809236e-02, -2.7926188e-02,  2.5996944e-02, -5.6950100e-02,\n",
       "         4.0130313e-02, -1.8762264e-02, -7.3654796e-03, -6.2923081e-02,\n",
       "         2.7930082e-03,  3.8705945e-02,  7.9338290e-02,  2.0339452e-02,\n",
       "        -5.6297291e-02, -2.4083940e-02, -6.4032309e-02, -1.8256642e-02,\n",
       "         5.1853191e-02,  1.4654206e-03, -7.9486452e-02, -1.0067425e-01,\n",
       "        -5.5940892e-03,  5.5833351e-02, -5.6800403e-02, -2.8514192e-02,\n",
       "        -8.9639403e-02, -9.5257964e-03, -4.7218632e-02, -2.2304786e-02],\n",
       "       dtype=float32),\n",
       " array([[-0.07665001],\n",
       "        [-0.19018917],\n",
       "        [ 0.02440791],\n",
       "        [ 0.04319964],\n",
       "        [ 0.04881131],\n",
       "        [ 0.06634099],\n",
       "        [ 0.06716495],\n",
       "        [-0.14492053],\n",
       "        [ 0.11059723],\n",
       "        [ 0.2171052 ],\n",
       "        [ 0.09128305],\n",
       "        [ 0.09000166],\n",
       "        [-0.15111636],\n",
       "        [-0.08275919],\n",
       "        [-0.25872356],\n",
       "        [ 0.34903404],\n",
       "        [-0.1576506 ],\n",
       "        [-0.13091674],\n",
       "        [-0.1439659 ],\n",
       "        [ 0.588477  ],\n",
       "        [ 0.12497228],\n",
       "        [ 0.03899431],\n",
       "        [ 0.2694717 ],\n",
       "        [ 0.34005645],\n",
       "        [ 0.12072191],\n",
       "        [ 0.04284698],\n",
       "        [-0.07446559],\n",
       "        [-0.17114672],\n",
       "        [ 0.38922942],\n",
       "        [-0.05901417],\n",
       "        [-0.20124488],\n",
       "        [-0.04608414],\n",
       "        [-0.3689403 ],\n",
       "        [ 0.16595986],\n",
       "        [ 0.21399921],\n",
       "        [ 0.14111346],\n",
       "        [ 0.02246767],\n",
       "        [-0.23346315],\n",
       "        [-0.08328098],\n",
       "        [-0.17831014],\n",
       "        [ 0.11971664],\n",
       "        [ 0.17567544],\n",
       "        [ 0.24090183],\n",
       "        [ 0.11376594],\n",
       "        [-0.10707434],\n",
       "        [-0.20878969],\n",
       "        [ 0.06526082],\n",
       "        [ 0.05095028],\n",
       "        [-0.08146659],\n",
       "        [ 0.22765078],\n",
       "        [ 0.14886737],\n",
       "        [-0.15138175],\n",
       "        [ 0.20722938],\n",
       "        [-0.04102671],\n",
       "        [ 0.02154093],\n",
       "        [ 0.01864055],\n",
       "        [ 0.09679853],\n",
       "        [-0.1491755 ],\n",
       "        [-0.41447213],\n",
       "        [ 0.00282349],\n",
       "        [ 0.03227289],\n",
       "        [-0.0913002 ],\n",
       "        [-0.1750991 ],\n",
       "        [ 0.02894345],\n",
       "        [ 0.09387138],\n",
       "        [ 0.03824885],\n",
       "        [ 0.14771974],\n",
       "        [ 0.02049681],\n",
       "        [ 0.07415521],\n",
       "        [-0.02332692],\n",
       "        [ 0.09510542],\n",
       "        [ 0.22993556],\n",
       "        [ 0.13251813],\n",
       "        [-0.30877125],\n",
       "        [ 0.12883516],\n",
       "        [ 0.30792746],\n",
       "        [-0.15162127],\n",
       "        [ 0.1670902 ],\n",
       "        [-0.40989646],\n",
       "        [-0.33745906],\n",
       "        [ 0.00542853],\n",
       "        [-0.0205829 ],\n",
       "        [-0.20620638],\n",
       "        [ 0.15214546],\n",
       "        [-0.18314989],\n",
       "        [ 0.14754894],\n",
       "        [-0.06704724],\n",
       "        [ 0.07745337],\n",
       "        [-0.04110635],\n",
       "        [ 0.14123985],\n",
       "        [ 0.05337346],\n",
       "        [ 0.05121541],\n",
       "        [ 0.1647829 ],\n",
       "        [ 0.16085279],\n",
       "        [ 0.38104883],\n",
       "        [-0.11077677],\n",
       "        [-0.22584799],\n",
       "        [ 0.1158829 ],\n",
       "        [ 0.13150205],\n",
       "        [-0.17023064],\n",
       "        [ 0.18667653],\n",
       "        [ 0.00336131],\n",
       "        [-0.30132565],\n",
       "        [ 0.11575188],\n",
       "        [-0.11025046],\n",
       "        [ 0.00431427],\n",
       "        [-0.01702431],\n",
       "        [ 0.15075254],\n",
       "        [ 0.03382608],\n",
       "        [-0.08384895],\n",
       "        [-0.08139797],\n",
       "        [ 0.11961735],\n",
       "        [ 0.59771127],\n",
       "        [-0.00220193],\n",
       "        [ 0.16075814],\n",
       "        [-0.28776425],\n",
       "        [ 0.1238248 ],\n",
       "        [ 0.05794819],\n",
       "        [-0.03780343],\n",
       "        [ 0.32935458],\n",
       "        [ 0.09363012],\n",
       "        [ 0.07024362],\n",
       "        [ 0.09359121],\n",
       "        [-0.23055689],\n",
       "        [-0.02860066],\n",
       "        [-0.08676165],\n",
       "        [ 0.21010135],\n",
       "        [ 0.11333732]], dtype=float32),\n",
       " array([0.6090935], dtype=float32)]"
      ]
     },
     "execution_count": 4,
     "metadata": {},
     "output_type": "execute_result"
    }
   ],
   "source": [
    "model.get_weights()"
   ]
  },
  {
   "cell_type": "code",
   "execution_count": 5,
   "metadata": {},
   "outputs": [],
   "source": [
    "# Step 2: Helper Functions\n",
    "# Function to decode reviews\n",
    "def decode_review(encoded_review):\n",
    "    return ' '.join([reverse_word_index.get(i - 3, '?') for i in encoded_review])\n",
    "\n",
    "# Function to preprocess user input\n",
    "def preprocess_text(text):\n",
    "    words = text.lower().split()\n",
    "    encoded_review = [word_index.get(word, 2) + 3 for word in words]\n",
    "    padded_review = sequence.pad_sequences([encoded_review], maxlen=500)\n",
    "    return padded_review"
   ]
  },
  {
   "cell_type": "code",
   "execution_count": 6,
   "metadata": {},
   "outputs": [],
   "source": [
    "### Prediction  function\n",
    "\n",
    "def predict_sentiment(review):\n",
    "    preprocessed_input=preprocess_text(review)\n",
    "\n",
    "    prediction=model.predict(preprocessed_input)\n",
    "\n",
    "    sentiment = 'Positive' if prediction[0][0] > 0.5 else 'Negative'\n",
    "    \n",
    "    return sentiment, prediction[0][0]\n",
    "\n"
   ]
  },
  {
   "cell_type": "code",
   "execution_count": 7,
   "metadata": {},
   "outputs": [
    {
     "name": "stdout",
     "output_type": "stream",
     "text": [
      "\u001b[1m1/1\u001b[0m \u001b[32m━━━━━━━━━━━━━━━━━━━━\u001b[0m\u001b[37m\u001b[0m \u001b[1m0s\u001b[0m 153ms/step\n",
      "Review: This movie was fantastic! The acting was great and the plot was thrilling.\n",
      "Sentiment: Negative\n",
      "Prediction Score: 0.4360455870628357\n"
     ]
    }
   ],
   "source": [
    "# Step 4: User Input and Prediction\n",
    "# Example review for prediction\n",
    "example_review = \"This movie was fantastic! The acting was great and the plot was thrilling.\"\n",
    "\n",
    "sentiment,score=predict_sentiment(example_review)\n",
    "\n",
    "print(f'Review: {example_review}')\n",
    "print(f'Sentiment: {sentiment}')\n",
    "print(f'Prediction Score: {score}')"
   ]
  },
  {
   "cell_type": "code",
   "execution_count": null,
   "metadata": {},
   "outputs": [],
   "source": []
  },
  {
   "cell_type": "code",
   "execution_count": null,
   "metadata": {},
   "outputs": [],
   "source": []
  },
  {
   "cell_type": "code",
   "execution_count": null,
   "metadata": {},
   "outputs": [],
   "source": []
  },
  {
   "cell_type": "code",
   "execution_count": null,
   "metadata": {},
   "outputs": [],
   "source": []
  }
 ],
 "metadata": {
  "kernelspec": {
   "display_name": "Python 3",
   "language": "python",
   "name": "python3"
  },
  "language_info": {
   "codemirror_mode": {
    "name": "ipython",
    "version": 3
   },
   "file_extension": ".py",
   "mimetype": "text/x-python",
   "name": "python",
   "nbconvert_exporter": "python",
   "pygments_lexer": "ipython3",
   "version": "3.11.4"
  }
 },
 "nbformat": 4,
 "nbformat_minor": 2
}
